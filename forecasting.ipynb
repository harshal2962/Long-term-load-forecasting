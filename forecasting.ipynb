{
  "nbformat": 4,
  "nbformat_minor": 0,
  "metadata": {
    "colab": {
      "name": "forecasting.ipynb",
      "provenance": [],
      "collapsed_sections": []
    },
    "kernelspec": {
      "display_name": "Python 3",
      "name": "python3"
    }
  },
  "cells": [
    {
      "cell_type": "code",
      "metadata": {
        "id": "unw9SdEBefNf"
      },
      "source": [
        "# Import libraries\r\n",
        "import numpy as np\r\n",
        "import matplotlib.pyplot as plt\r\n",
        "import pandas as pd\r\n",
        "import random as rn\r\n",
        "import math\r\n",
        "import seaborn as sns\r\n",
        "from sklearn.svm import SVR"
      ],
      "execution_count": null,
      "outputs": []
    },
    {
      "cell_type": "code",
      "metadata": {
        "id": "m714Nkq1DzeF"
      },
      "source": [
        "dataset = pd.read_csv('file.csv')\r\n",
        "year = dataset.iloc[:-1, 0].values\r\n",
        "X = dataset.iloc[:-1, 1:-1].values\r\n",
        "y = dataset.iloc[:-1, -1].values\r\n",
        "y = y.reshape(len(y),1)"
      ],
      "execution_count": null,
      "outputs": []
    },
    {
      "cell_type": "code",
      "metadata": {
        "id": "aIaHSNmLjG2_"
      },
      "source": [
        "plt.figure(figsize=(16, 6))\r\n",
        "mask = np.triu(np.ones_like(dataset.corr(), dtype=np.bool))\r\n",
        "heatmap = sns.heatmap(dataset.corr(), mask=mask, vmin=-1, vmax=1, annot=True, \r\n",
        "                      cmap='BrBG')\r\n",
        "heatmap.set_title('Correlation Heatmap', fontdict={'fontsize':20}, \r\n",
        "                  pad=16);"
      ],
      "execution_count": null,
      "outputs": []
    },
    {
      "cell_type": "code",
      "metadata": {
        "id": "ph_uR1aTjGzw"
      },
      "source": [
        "dataset.corr()[['load']].sort_values(by='load', ascending=False)\r\n",
        "plt.figure(figsize=(8, 12))\r\n",
        "heatmap = sns.heatmap(dataset.corr()[['load']].sort_values(by='load', \r\n",
        "                     ascending=False), vmin=-1, vmax=1, annot=True, cmap='BrBG')\r\n",
        "heatmap.set_title('Features Correlating with Load', fontdict={'fontsize':20}, \r\n",
        "                  pad=16);"
      ],
      "execution_count": null,
      "outputs": []
    },
    {
      "cell_type": "code",
      "metadata": {
        "id": "cRMjvBPIDzxs"
      },
      "source": [
        "#  Preprocessing\r\n",
        "from sklearn.preprocessing import StandardScaler\r\n",
        "sc_X = StandardScaler()\r\n",
        "sc_y = StandardScaler()\r\n",
        "X = sc_X.fit_transform(X)\r\n",
        "y = sc_y.fit_transform(y)\r\n",
        "y = np.ravel(y)"
      ],
      "execution_count": null,
      "outputs": []
    },
    {
      "cell_type": "code",
      "metadata": {
        "id": "dDOn9MaEDzzu"
      },
      "source": [
        "# BSA parameters\r\n",
        "pop_number = 150\r\n",
        "dim = 2\r\n",
        "pop_size = (pop_number, dim)\r\n",
        "dim_rate=80\r\n",
        "# bounds for penalty parameter,kernel parameter\r\n",
        "low = (0.01, 0.01) \r\n",
        "high = (35000, 32) \r\n",
        "epoch = 100\r\n",
        "globalminimum =np.zeros(epoch)"
      ],
      "execution_count": null,
      "outputs": []
    },
    {
      "cell_type": "code",
      "metadata": {
        "id": "NSn5Xg05cZ16"
      },
      "source": [
        "#  Population generation\r\n",
        "def population_generation(low, high, pop_size):\r\n",
        "  population = np.random.uniform(low, high, pop_size)\r\n",
        "  return population"
      ],
      "execution_count": null,
      "outputs": []
    },
    {
      "cell_type": "code",
      "metadata": {
        "id": "A4Z3k3BPcaBz"
      },
      "source": [
        "# Boundary control\r\n",
        "def Boundary_control(offsprings):\r\n",
        "  for i in range(pop_number):\r\n",
        "    for j in range(dim):\r\n",
        "      k = rn.random() < rn.random()\r\n",
        "      if offsprings[i][j] < low[j]:\r\n",
        "        if k:\r\n",
        "          offsprings[i][j] = low[j]\r\n",
        "        else:\r\n",
        "          offsprings[i][j] = np.random.uniform(low[j], high[j])\r\n",
        "      if offsprings[i][j] > high[j]:\r\n",
        "        if k:\r\n",
        "          offsprings[i][j] = high[j]\r\n",
        "        else:\r\n",
        "          offsprings[i][j] = np.random.uniform(low[j], high[j])\r\n",
        "  return offsprings"
      ],
      "execution_count": null,
      "outputs": []
    },
    {
      "cell_type": "code",
      "metadata": {
        "id": "BorknAKXdD9A"
      },
      "source": [
        "#  SVR function\r\n",
        "def SVR1(offspring):\r\n",
        "  MAPE = np.zeros(pop_number)\r\n",
        "  offsprings_svr = offspring\r\n",
        "  for i in range(pop_number):\r\n",
        "    \r\n",
        "    regressor = SVR(C = offsprings_svr[i][0], \r\n",
        "                epsilon = offsprings_svr[i][1])\r\n",
        "    regressor.fit(X, y)\r\n",
        "    # MAPE calculation\r\n",
        "    y_true = np.array(sc_y.inverse_transform(y))\r\n",
        "    y_pred = np.array( sc_y.inverse_transform(regressor.predict(X)))\r\n",
        "    MAPE[i] = np.mean(np.divide(np.abs((y_true - y_pred)), y_true)) * 100\r\n",
        "    MAPE = MAPE.reshape(len(MAPE),1)\r\n",
        "  return MAPE\r\n",
        "  \r\n",
        " "
      ],
      "execution_count": null,
      "outputs": []
    },
    {
      "cell_type": "code",
      "metadata": {
        "id": "zvmuWhVkDz2O"
      },
      "source": [
        "# Initilaization\r\n",
        "pop = population_generation(low, high, pop_size)\r\n",
        "fitness_pop= SVR1(pop)\r\n",
        "historical_pop = population_generation(low, high, pop_size)"
      ],
      "execution_count": null,
      "outputs": []
    },
    {
      "cell_type": "code",
      "metadata": {
        "id": "7I7fMJNXDz6E"
      },
      "source": [
        "for epk in range(epoch):\r\n",
        "  # Selection 1\r\n",
        "  if rn.random() < rn.random():\r\n",
        "    historical_pop = pop\r\n",
        "  historical_pop = historical_pop[np.random.permutation(pop_number),:]\r\n",
        "  F = 3*np.random.randn()\r\n",
        "  map = np.zeros((pop_number,dim), dtype=int)\r\n",
        "  if rn.random() < rn.random():\r\n",
        "    for i in range(pop_number):\r\n",
        "      u = np.random.permutation(dim)\r\n",
        "      map[i][u[1:math.ceil(dim_rate*rn.random()*dim)]] = 1\r\n",
        "  else:\r\n",
        "    for i in range(pop_number):\r\n",
        "      map[i][rn.randrange(1,dim+1)-1] = 1\r\n",
        "  \r\n",
        "  # Recombination (Mutation + Crossover) \r\n",
        "  offsprings = pop+(map*F)*(historical_pop-pop)\r\n",
        "\r\n",
        "  # Call boundary control\r\n",
        "  offspring = Boundary_control(offsprings)\r\n",
        "\r\n",
        "  # Selection 2\r\n",
        "  fitness_offsprings = SVR1(offsprings)\r\n",
        "  indices = fitness_offsprings - fitness_pop\r\n",
        "  indices = [i for i in range(pop_number) if indices[i][0]<0] \r\n",
        "  fitness_pop[indices]=fitness_offsprings[indices]\r\n",
        "  pop[indices,:]=offsprings[indices,:]\r\n",
        "  globalminimum[epk]=min(fitness_pop)\r\n",
        "  globalminimizer=pop[indices,:]"
      ],
      "execution_count": null,
      "outputs": []
    },
    {
      "cell_type": "code",
      "metadata": {
        "id": "wPMWzULKDz8k"
      },
      "source": [
        "print(globalminimum)"
      ],
      "execution_count": null,
      "outputs": []
    },
    {
      "cell_type": "code",
      "metadata": {
        "id": "NXN8YgizDz_5"
      },
      "source": [
        "print(globalminimizer)"
      ],
      "execution_count": null,
      "outputs": []
    },
    {
      "cell_type": "code",
      "metadata": {
        "id": "qeVGDLrmnLYB"
      },
      "source": [
        "#  forecasted load\r\n",
        "regressor = SVR(kernel='linear', C = globalminimizer[-1][0], \r\n",
        "                epsilon = globalminimizer[-1][1])\r\n",
        "regressor.fit(X, y)\r\n",
        "sc_y.inverse_transform(regressor.predict(sc_X.transform([dataset.iloc[-1, 1:-1]])))"
      ],
      "execution_count": null,
      "outputs": []
    },
    {
      "cell_type": "code",
      "metadata": {
        "id": "-NWPh5l4myly"
      },
      "source": [
        "# curve between real and predicted demand\r\n",
        "# real demand\r\n",
        "plt.scatter(year, sc_y.inverse_transform(y), color = 'red')\r\n",
        "# predicted demand with model \r\n",
        "plt.plot(year, sc_y.inverse_transform(regressor.predict(X)), color = 'blue')\r\n",
        "plt.title('Forecast')\r\n",
        "plt.xlabel('Year')\r\n",
        "plt.ylabel('Demand')\r\n",
        "plt.show()"
      ],
      "execution_count": null,
      "outputs": []
    },
    {
      "cell_type": "code",
      "metadata": {
        "id": "aYSGBH6LnPkR"
      },
      "source": [
        "# R2 score\r\n",
        "from sklearn.metrics import r2_score\r\n",
        "r2_score(sc_y.inverse_transform(y),sc_y.inverse_transform(regressor.predict(X)))"
      ],
      "execution_count": null,
      "outputs": []
    },
    {
      "cell_type": "code",
      "metadata": {
        "id": "Afs-hU0qFItl"
      },
      "source": [
        "# converegence curve\r\n",
        "plt.plot(np.arange(start=1, stop=epoch+1, step=1), np.array(globalminimum))\r\n",
        "plt.xlabel('Epoch')\r\n",
        "plt.ylabel('Minimum solution')"
      ],
      "execution_count": null,
      "outputs": []
    }
  ]
}